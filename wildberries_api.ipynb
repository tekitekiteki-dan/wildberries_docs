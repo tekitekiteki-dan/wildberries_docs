{
 "cells": [
  {
   "cell_type": "code",
   "execution_count": 1,
   "id": "5b3a429a",
   "metadata": {},
   "outputs": [
    {
     "data": {
      "text/plain": [
       "True"
      ]
     },
     "execution_count": 1,
     "metadata": {},
     "output_type": "execute_result"
    }
   ],
   "source": [
    "import requests\n",
    "import pandas as pd\n",
    "import json\n",
    "from datetime import datetime\n",
    "import time\n",
    "import os\n",
    "import os\n",
    "from dotenv import load_dotenv\n",
    "\n",
    "load_dotenv()"
   ]
  },
  {
   "cell_type": "code",
   "execution_count": 2,
   "id": "cbbaaebd",
   "metadata": {},
   "outputs": [],
   "source": [
    "with open('openapi.json', 'rb') as f:\n",
    "    cnf = json.load(f)"
   ]
  },
  {
   "cell_type": "code",
   "execution_count": 3,
   "id": "d43202f8",
   "metadata": {},
   "outputs": [],
   "source": [
    "class ApiClient:\n",
    "    def __init__(self, token: str, cnf: dict):\n",
    "        self.token = token\n",
    "        self.cnf = cnf\n",
    "        self.url_stat = 'https://statistics-api.wildberries.ru'\n",
    "    \n",
    "    def __request_get(self, path: str, params: dict):\n",
    "        headers = {'Authorization': self.token}\n",
    "        while True:\n",
    "            try:\n",
    "                r = requests.get(url = self.url_stat + path, params = params, headers = headers, timeout = 60)\n",
    "                if r.status_code != 200:\n",
    "                    if r.json()['errors'] == ['(api-new) too many requests']:\n",
    "                        time.sleep(60)\n",
    "                    else:\n",
    "                        break\n",
    "                else:\n",
    "                    break\n",
    "            except:\n",
    "                time.sleep(10)\n",
    "        if r.status_code != 200:\n",
    "            raise Exception(r.json()['errors'])\n",
    "        r = r.json()\n",
    "        r = pd.DataFrame(r)\n",
    "        \n",
    "        return r\n",
    "    \n",
    "    def __rename_columns(self, data: pd.DataFrame, path: str):\n",
    "        cols = self.cnf['paths'][path]['get']['responses']['200']['content']\\\n",
    "            ['application/json']['schema']['items']['$ref']\n",
    "        x = self.cnf\n",
    "        for c in cols.split('/')[1:]:\n",
    "            x = x[c]\n",
    "        cols = x['properties']\n",
    "        for i, c in enumerate(data.columns):\n",
    "            try:\n",
    "                data = data.rename(columns = {c: cols[c]['description'].split('.')[0]})\n",
    "            except:\n",
    "                pass\n",
    "        \n",
    "        return data\n",
    "    \n",
    "    def incomes(self,\n",
    "                dateFrom: str = '2019-06-20',\n",
    "                is_russian: bool = True):\n",
    "        params = locals()\n",
    "        params.pop('self', 'is_russian')\n",
    "        path = '/api/v1/supplier/incomes'\n",
    "        data = self.__request_get(path = path, params = params)\n",
    "        if is_russian:\n",
    "            data = self.__rename_columns(data = data, path = path)\n",
    "        return data\n",
    "    \n",
    "    def stocks(self,\n",
    "               dateFrom: str = '2019-06-20',\n",
    "               is_russian: bool = True):\n",
    "        params = locals()\n",
    "        params.pop('self', 'is_russian')\n",
    "        path = '/api/v1/supplier/stocks'\n",
    "        data = self.__request_get(path = path, params = params)\n",
    "        if is_russian:\n",
    "            data = self.__rename_columns(data = data, path = path)\n",
    "        return data\n",
    "    \n",
    "    def orders(self,\n",
    "               dateFrom: str = '2019-06-20',\n",
    "               is_russian: bool = True):\n",
    "        params = locals()\n",
    "        params.pop('self', 'is_russian')\n",
    "        path = '/api/v1/supplier/orders'\n",
    "        data = self.__request_get(path = path, params = params)\n",
    "        if is_russian:\n",
    "            data = self.__rename_columns(data = data, path = path)\n",
    "        return data\n",
    "    \n",
    "    def sales(self,\n",
    "              dateFrom: str = '2019-06-20',\n",
    "              is_russian: bool = True):\n",
    "        params = locals()\n",
    "        params.pop('self', 'is_russian')\n",
    "        path = '/api/v1/supplier/sales'\n",
    "        data = self.__request_get(path = path, params = params)\n",
    "        if is_russian:\n",
    "            data = self.__rename_columns(data = data, path = path)\n",
    "        return data\n",
    "    \n",
    "    def reportDetailByPeriod(self,\n",
    "                             dateFrom: str = '2019-06-20',\n",
    "                             dateTo: str = str(datetime.now().date()),\n",
    "                             is_russian: bool = True):\n",
    "        params = locals()\n",
    "        params.pop('self', 'is_russian')\n",
    "        params['rrdid'] = 0\n",
    "        path = '/api/v1/supplier/reportDetailByPeriod'\n",
    "        data = pd.DataFrame()\n",
    "        while True:\n",
    "            _data = self.__request_get(path = path, params = params)\n",
    "            if _data.shape[0] > 0:\n",
    "                params['rrdid'] = _data['rrd_id'].iloc[-1]\n",
    "                if is_russian:\n",
    "                    _data = self.__rename_columns(_data, path = path)\n",
    "                data = pd.concat([data, _data])\n",
    "            else:\n",
    "                break\n",
    "        return data"
   ]
  },
  {
   "cell_type": "code",
   "execution_count": 4,
   "id": "468edb4d",
   "metadata": {},
   "outputs": [],
   "source": [
    "token = os.environ['WB_token_stat']"
   ]
  },
  {
   "cell_type": "code",
   "execution_count": 6,
   "id": "3ae18f61",
   "metadata": {},
   "outputs": [],
   "source": [
    "client = ApiClient(token = token, cnf = cnf)"
   ]
  },
  {
   "cell_type": "code",
   "execution_count": 7,
   "id": "fc4ede34",
   "metadata": {},
   "outputs": [],
   "source": [
    "reports = [('incomes', 'Поставки'),\n",
    "           ('stocks', 'Склад'),\n",
    "           ('orders', 'Заказы'),\n",
    "           ('sales', 'Продажи'),\n",
    "           ('reportDetailByPeriod', 'Отчет о продажах по реализации')]\n",
    "\n",
    "for method, report in reports:\n",
    "    data = client.__getattribute__(method).__call__()\n",
    "    data.to_excel(f'{report}.xlsx', index = False)"
   ]
  },
  {
   "cell_type": "code",
   "execution_count": null,
   "id": "021ce3cd",
   "metadata": {},
   "outputs": [],
   "source": []
  }
 ],
 "metadata": {
  "kernelspec": {
   "display_name": "venv",
   "language": "python",
   "name": "python3"
  },
  "language_info": {
   "codemirror_mode": {
    "name": "ipython",
    "version": 3
   },
   "file_extension": ".py",
   "mimetype": "text/x-python",
   "name": "python",
   "nbconvert_exporter": "python",
   "pygments_lexer": "ipython3",
   "version": "3.9.12"
  },
  "vscode": {
   "interpreter": {
    "hash": "0cde38cb37b97cbc0a371f07e4219330a8cea19c716c351425b9fbfa72ec9387"
   }
  }
 },
 "nbformat": 4,
 "nbformat_minor": 5
}
